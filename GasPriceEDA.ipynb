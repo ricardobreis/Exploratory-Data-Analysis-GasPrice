{
 "cells": [
  {
   "cell_type": "markdown",
   "metadata": {},
   "source": [
    "# Datasets for EAD (Exploratory Data Analysis)"
   ]
  },
  {
   "cell_type": "markdown",
   "metadata": {},
   "source": [
    "Importing needed libraries and setting configurations:"
   ]
  },
  {
   "cell_type": "code",
   "execution_count": 3,
   "metadata": {},
   "outputs": [],
   "source": [
    "import pandas as pd\n",
    "pd.set_option('display.max_rows', 500)\n",
    "pd.set_option('display.max_columns', 500)\n",
    "pd.set_option('display.width', 1000)\n",
    "\n",
    "import matplotlib.pyplot as plt"
   ]
  },
  {
   "cell_type": "markdown",
   "metadata": {},
   "source": [
    "## Gas Prices in Brazil 2004-2019 Dataset"
   ]
  },
  {
   "cell_type": "markdown",
   "metadata": {},
   "source": [
    "Source and further information:"
   ]
  },
  {
   "cell_type": "markdown",
   "metadata": {},
   "source": [
    "https://www.kaggle.com/matheusfreitag/gas-prices-in-brazil"
   ]
  },
  {
   "cell_type": "markdown",
   "metadata": {},
   "source": [
    "Data:"
   ]
  },
  {
   "cell_type": "code",
   "execution_count": 24,
   "metadata": {},
   "outputs": [],
   "source": [
    "df_gasPricesBR = pd.read_csv('data_gasPricesBR_2004-2019.tsv', sep = '\\t', index_col = 0 )"
   ]
  },
  {
   "cell_type": "code",
   "execution_count": 25,
   "metadata": {},
   "outputs": [
    {
     "data": {
      "text/html": [
       "<div>\n",
       "<style scoped>\n",
       "    .dataframe tbody tr th:only-of-type {\n",
       "        vertical-align: middle;\n",
       "    }\n",
       "\n",
       "    .dataframe tbody tr th {\n",
       "        vertical-align: top;\n",
       "    }\n",
       "\n",
       "    .dataframe thead th {\n",
       "        text-align: right;\n",
       "    }\n",
       "</style>\n",
       "<table border=\"1\" class=\"dataframe\">\n",
       "  <thead>\n",
       "    <tr style=\"text-align: right;\">\n",
       "      <th></th>\n",
       "      <th>DATA INICIAL</th>\n",
       "      <th>DATA FINAL</th>\n",
       "      <th>REGIÃO</th>\n",
       "      <th>ESTADO</th>\n",
       "      <th>PRODUTO</th>\n",
       "      <th>NÚMERO DE POSTOS PESQUISADOS</th>\n",
       "      <th>UNIDADE DE MEDIDA</th>\n",
       "      <th>PREÇO MÉDIO REVENDA</th>\n",
       "      <th>DESVIO PADRÃO REVENDA</th>\n",
       "      <th>PREÇO MÍNIMO REVENDA</th>\n",
       "      <th>PREÇO MÁXIMO REVENDA</th>\n",
       "      <th>MARGEM MÉDIA REVENDA</th>\n",
       "      <th>COEF DE VARIAÇÃO REVENDA</th>\n",
       "      <th>PREÇO MÉDIO DISTRIBUIÇÃO</th>\n",
       "      <th>DESVIO PADRÃO DISTRIBUIÇÃO</th>\n",
       "      <th>PREÇO MÍNIMO DISTRIBUIÇÃO</th>\n",
       "      <th>PREÇO MÁXIMO DISTRIBUIÇÃO</th>\n",
       "      <th>COEF DE VARIAÇÃO DISTRIBUIÇÃO</th>\n",
       "      <th>MÊS</th>\n",
       "      <th>ANO</th>\n",
       "    </tr>\n",
       "  </thead>\n",
       "  <tbody>\n",
       "    <tr>\n",
       "      <th>0</th>\n",
       "      <td>2004-05-09</td>\n",
       "      <td>2004-05-15</td>\n",
       "      <td>CENTRO OESTE</td>\n",
       "      <td>DISTRITO FEDERAL</td>\n",
       "      <td>ETANOL HIDRATADO</td>\n",
       "      <td>127</td>\n",
       "      <td>R$/l</td>\n",
       "      <td>1.288</td>\n",
       "      <td>0.016</td>\n",
       "      <td>1.19</td>\n",
       "      <td>1.350</td>\n",
       "      <td>0.463</td>\n",
       "      <td>0.012</td>\n",
       "      <td>0.825</td>\n",
       "      <td>0.11</td>\n",
       "      <td>0.4201</td>\n",
       "      <td>0.9666</td>\n",
       "      <td>0.133</td>\n",
       "      <td>5</td>\n",
       "      <td>2004</td>\n",
       "    </tr>\n",
       "    <tr>\n",
       "      <th>1</th>\n",
       "      <td>2004-05-09</td>\n",
       "      <td>2004-05-15</td>\n",
       "      <td>CENTRO OESTE</td>\n",
       "      <td>GOIAS</td>\n",
       "      <td>ETANOL HIDRATADO</td>\n",
       "      <td>387</td>\n",
       "      <td>R$/l</td>\n",
       "      <td>1.162</td>\n",
       "      <td>0.114</td>\n",
       "      <td>0.89</td>\n",
       "      <td>1.449</td>\n",
       "      <td>0.399</td>\n",
       "      <td>0.098</td>\n",
       "      <td>0.763</td>\n",
       "      <td>0.088</td>\n",
       "      <td>0.5013</td>\n",
       "      <td>1.05</td>\n",
       "      <td>0.115</td>\n",
       "      <td>5</td>\n",
       "      <td>2004</td>\n",
       "    </tr>\n",
       "    <tr>\n",
       "      <th>2</th>\n",
       "      <td>2004-05-09</td>\n",
       "      <td>2004-05-15</td>\n",
       "      <td>CENTRO OESTE</td>\n",
       "      <td>MATO GROSSO</td>\n",
       "      <td>ETANOL HIDRATADO</td>\n",
       "      <td>192</td>\n",
       "      <td>R$/l</td>\n",
       "      <td>1.389</td>\n",
       "      <td>0.097</td>\n",
       "      <td>1.18</td>\n",
       "      <td>1.760</td>\n",
       "      <td>0.419</td>\n",
       "      <td>0.070</td>\n",
       "      <td>0.97</td>\n",
       "      <td>0.095</td>\n",
       "      <td>0.5614</td>\n",
       "      <td>1.161</td>\n",
       "      <td>0.098</td>\n",
       "      <td>5</td>\n",
       "      <td>2004</td>\n",
       "    </tr>\n",
       "    <tr>\n",
       "      <th>3</th>\n",
       "      <td>2004-05-09</td>\n",
       "      <td>2004-05-15</td>\n",
       "      <td>CENTRO OESTE</td>\n",
       "      <td>MATO GROSSO DO SUL</td>\n",
       "      <td>ETANOL HIDRATADO</td>\n",
       "      <td>162</td>\n",
       "      <td>R$/l</td>\n",
       "      <td>1.262</td>\n",
       "      <td>0.070</td>\n",
       "      <td>1.09</td>\n",
       "      <td>1.509</td>\n",
       "      <td>0.432</td>\n",
       "      <td>0.055</td>\n",
       "      <td>0.83</td>\n",
       "      <td>0.119</td>\n",
       "      <td>0.5991</td>\n",
       "      <td>1.22242</td>\n",
       "      <td>0.143</td>\n",
       "      <td>5</td>\n",
       "      <td>2004</td>\n",
       "    </tr>\n",
       "    <tr>\n",
       "      <th>4</th>\n",
       "      <td>2004-05-09</td>\n",
       "      <td>2004-05-15</td>\n",
       "      <td>NORDESTE</td>\n",
       "      <td>ALAGOAS</td>\n",
       "      <td>ETANOL HIDRATADO</td>\n",
       "      <td>103</td>\n",
       "      <td>R$/l</td>\n",
       "      <td>1.181</td>\n",
       "      <td>0.078</td>\n",
       "      <td>1.05</td>\n",
       "      <td>1.400</td>\n",
       "      <td>0.24</td>\n",
       "      <td>0.066</td>\n",
       "      <td>0.941</td>\n",
       "      <td>0.077</td>\n",
       "      <td>0.7441</td>\n",
       "      <td>1.0317</td>\n",
       "      <td>0.082</td>\n",
       "      <td>5</td>\n",
       "      <td>2004</td>\n",
       "    </tr>\n",
       "  </tbody>\n",
       "</table>\n",
       "</div>"
      ],
      "text/plain": [
       "  DATA INICIAL  DATA FINAL        REGIÃO              ESTADO           PRODUTO  NÚMERO DE POSTOS PESQUISADOS UNIDADE DE MEDIDA  PREÇO MÉDIO REVENDA  DESVIO PADRÃO REVENDA  PREÇO MÍNIMO REVENDA  PREÇO MÁXIMO REVENDA MARGEM MÉDIA REVENDA  COEF DE VARIAÇÃO REVENDA PREÇO MÉDIO DISTRIBUIÇÃO DESVIO PADRÃO DISTRIBUIÇÃO PREÇO MÍNIMO DISTRIBUIÇÃO PREÇO MÁXIMO DISTRIBUIÇÃO COEF DE VARIAÇÃO DISTRIBUIÇÃO  MÊS   ANO\n",
       "0   2004-05-09  2004-05-15  CENTRO OESTE    DISTRITO FEDERAL  ETANOL HIDRATADO                           127              R$/l                1.288                  0.016                  1.19                 1.350                0.463                     0.012                    0.825                       0.11                    0.4201                    0.9666                         0.133    5  2004\n",
       "1   2004-05-09  2004-05-15  CENTRO OESTE               GOIAS  ETANOL HIDRATADO                           387              R$/l                1.162                  0.114                  0.89                 1.449                0.399                     0.098                    0.763                      0.088                    0.5013                      1.05                         0.115    5  2004\n",
       "2   2004-05-09  2004-05-15  CENTRO OESTE         MATO GROSSO  ETANOL HIDRATADO                           192              R$/l                1.389                  0.097                  1.18                 1.760                0.419                     0.070                     0.97                      0.095                    0.5614                     1.161                         0.098    5  2004\n",
       "3   2004-05-09  2004-05-15  CENTRO OESTE  MATO GROSSO DO SUL  ETANOL HIDRATADO                           162              R$/l                1.262                  0.070                  1.09                 1.509                0.432                     0.055                     0.83                      0.119                    0.5991                   1.22242                         0.143    5  2004\n",
       "4   2004-05-09  2004-05-15      NORDESTE             ALAGOAS  ETANOL HIDRATADO                           103              R$/l                1.181                  0.078                  1.05                 1.400                 0.24                     0.066                    0.941                      0.077                    0.7441                    1.0317                         0.082    5  2004"
      ]
     },
     "execution_count": 25,
     "metadata": {},
     "output_type": "execute_result"
    }
   ],
   "source": [
    "df_gasPricesBR.head(5)"
   ]
  },
  {
   "cell_type": "markdown",
   "metadata": {},
   "source": [
    "## Tratamento da Base"
   ]
  },
  {
   "cell_type": "code",
   "execution_count": 26,
   "metadata": {},
   "outputs": [
    {
     "name": "stdout",
     "output_type": "stream",
     "text": [
      "<class 'pandas.core.frame.DataFrame'>\n",
      "Int64Index: 106823 entries, 0 to 106822\n",
      "Data columns (total 20 columns):\n",
      "DATA INICIAL                     106823 non-null object\n",
      "DATA FINAL                       106823 non-null object\n",
      "REGIÃO                           106823 non-null object\n",
      "ESTADO                           106823 non-null object\n",
      "PRODUTO                          106823 non-null object\n",
      "NÚMERO DE POSTOS PESQUISADOS     106823 non-null int64\n",
      "UNIDADE DE MEDIDA                106823 non-null object\n",
      "PREÇO MÉDIO REVENDA              106823 non-null float64\n",
      "DESVIO PADRÃO REVENDA            106823 non-null float64\n",
      "PREÇO MÍNIMO REVENDA             106823 non-null float64\n",
      "PREÇO MÁXIMO REVENDA             106823 non-null float64\n",
      "MARGEM MÉDIA REVENDA             106823 non-null object\n",
      "COEF DE VARIAÇÃO REVENDA         106823 non-null float64\n",
      "PREÇO MÉDIO DISTRIBUIÇÃO         106823 non-null object\n",
      "DESVIO PADRÃO DISTRIBUIÇÃO       106823 non-null object\n",
      "PREÇO MÍNIMO DISTRIBUIÇÃO        106823 non-null object\n",
      "PREÇO MÁXIMO DISTRIBUIÇÃO        106823 non-null object\n",
      "COEF DE VARIAÇÃO DISTRIBUIÇÃO    106823 non-null object\n",
      "MÊS                              106823 non-null int64\n",
      "ANO                              106823 non-null int64\n",
      "dtypes: float64(5), int64(3), object(12)\n",
      "memory usage: 17.1+ MB\n"
     ]
    }
   ],
   "source": [
    "df_gasPricesBR.info()"
   ]
  },
  {
   "cell_type": "markdown",
   "metadata": {},
   "source": [
    "### Renomear Colunas"
   ]
  },
  {
   "cell_type": "code",
   "execution_count": 27,
   "metadata": {},
   "outputs": [],
   "source": [
    "df_gasPricesBR.rename(\n",
    "    columns={\n",
    "        \"DATA INICIAL\": \"data_ini\",\n",
    "        \"DATA FINAL\": \"data_fim\",\n",
    "        \"REGIÃO\": \"regiao\",\n",
    "        \"ESTADO\": \"estado\",\n",
    "        \"PRODUTO\": \"produto\",\n",
    "        \"NÚMERO DE POSTOS PESQUISADOS\": \"n_postos\",\n",
    "        \"UNIDADE DE MEDIDA\": \"unidade_medida\",\n",
    "        \"PREÇO MÉDIO REVENDA\": \"preco_medio_revenda\",\n",
    "        \"DESVIO PADRÃO REVENDA\": \"desvpad_revenda\",\n",
    "        \"PREÇO MÍNIMO REVENDA\": \"min_preco_revenda\",\n",
    "        \"PREÇO MÁXIMO REVENDA\": \"max_preco_revenda\",\n",
    "        \"MARGEM MÉDIA REVENDA\": \"margem_media_revenda\",\n",
    "        \"ANO\": \"ano\",\n",
    "        \"MÊS\": \"mes\",\n",
    "        \"COEF DE VARIAÇÃO DISTRIBUIÇÃO\": \"coef_dist\",\n",
    "        \"PREÇO MÁXIMO DISTRIBUIÇÃO\": \"max_preco_dist\",\n",
    "        \"PREÇO MÍNIMO DISTRIBUIÇÃO\": \"min_preco_dist\",\n",
    "        \"DESVIO PADRÃO DISTRIBUIÇÃO\": \"desvpad_dist\",\n",
    "        \"PREÇO MÉDIO DISTRIBUIÇÃO\": \"preco_medio_dist\",\n",
    "        \"COEF DE VARIAÇÃO REVENDA\": \"coef_revenda\"\n",
    "    },\n",
    "    inplace=True\n",
    ")\n"
   ]
  },
  {
   "cell_type": "markdown",
   "metadata": {},
   "source": [
    "### Typecast"
   ]
  },
  {
   "cell_type": "code",
   "execution_count": 37,
   "metadata": {},
   "outputs": [
    {
     "name": "stdout",
     "output_type": "stream",
     "text": [
      "<class 'pandas.core.frame.DataFrame'>\n",
      "Int64Index: 106823 entries, 0 to 106822\n",
      "Data columns (total 20 columns):\n",
      "data_ini                106823 non-null datetime64[ns]\n",
      "data_fim                106823 non-null datetime64[ns]\n",
      "regiao                  106823 non-null object\n",
      "estado                  106823 non-null object\n",
      "produto                 106823 non-null object\n",
      "n_postos                106823 non-null int64\n",
      "unidade_medida          106823 non-null object\n",
      "preco_medio_revenda     106823 non-null float64\n",
      "desvpad_revenda         106823 non-null float64\n",
      "min_preco_revenda       106823 non-null float64\n",
      "max_preco_revenda       106823 non-null float64\n",
      "margem_media_revenda    103392 non-null float64\n",
      "coef_revenda            106823 non-null float64\n",
      "preco_medio_dist        103423 non-null float64\n",
      "desvpad_dist            103423 non-null float64\n",
      "min_preco_dist          103423 non-null float64\n",
      "max_preco_dist          103423 non-null float64\n",
      "coef_dist               103423 non-null float64\n",
      "mes                     106823 non-null int64\n",
      "ano                     106823 non-null int64\n",
      "dtypes: datetime64[ns](2), float64(11), int64(3), object(4)\n",
      "memory usage: 17.1+ MB\n"
     ]
    }
   ],
   "source": [
    "df_gasPricesBR['data_ini']=pd.to_datetime(df_gasPricesBR['data_ini'], format=\"%Y/%m/%d\")\n",
    "df_gasPricesBR['data_fim']=pd.to_datetime(df_gasPricesBR['data_fim'], format=\"%Y/%m/%d\")\n",
    "\n",
    "for col in ['margem_media_revenda', 'preco_medio_dist', 'desvpad_dist', 'min_preco_dist', 'max_preco_dist', 'coef_dist']:\n",
    "    df_gasPricesBR[col] = pd.to_numeric(df_gasPricesBR[col], errors='coerce')\n",
    "    \n",
    "df_gasPricesBR.info()\n"
   ]
  },
  {
   "cell_type": "markdown",
   "metadata": {},
   "source": [
    "#### Checa por Valores Nulos"
   ]
  },
  {
   "cell_type": "code",
   "execution_count": 38,
   "metadata": {},
   "outputs": [
    {
     "data": {
      "text/plain": [
       "data_ini                   0\n",
       "data_fim                   0\n",
       "regiao                     0\n",
       "estado                     0\n",
       "produto                    0\n",
       "n_postos                   0\n",
       "unidade_medida             0\n",
       "preco_medio_revenda        0\n",
       "desvpad_revenda            0\n",
       "min_preco_revenda          0\n",
       "max_preco_revenda          0\n",
       "margem_media_revenda    3431\n",
       "coef_revenda               0\n",
       "preco_medio_dist        3400\n",
       "desvpad_dist            3400\n",
       "min_preco_dist          3400\n",
       "max_preco_dist          3400\n",
       "coef_dist               3400\n",
       "mes                        0\n",
       "ano                        0\n",
       "dtype: int64"
      ]
     },
     "execution_count": 38,
     "metadata": {},
     "output_type": "execute_result"
    }
   ],
   "source": [
    "df_gasPricesBR.isnull().sum()"
   ]
  },
  {
   "cell_type": "markdown",
   "metadata": {},
   "source": [
    "### Formatar Valores"
   ]
  },
  {
   "cell_type": "code",
   "execution_count": 41,
   "metadata": {},
   "outputs": [
    {
     "data": {
      "text/plain": [
       "Nordeste        36869\n",
       "Norte           24702\n",
       "Sudeste         17047\n",
       "Centro Oeste    15429\n",
       "Sul             12776\n",
       "Name: regiao, dtype: int64"
      ]
     },
     "execution_count": 41,
     "metadata": {},
     "output_type": "execute_result"
    }
   ],
   "source": [
    "regioes = {\"SUL\":\"Sul\", \"SUDESTE\":\"Sudeste\", \"CENTRO OESTE\":\"Centro Oeste\", \n",
    "            \"NORTE\":\"Norte\", \"NORDESTE\":\"Nordeste\"}\n",
    "\n",
    "df_gasPricesBR[\"regiao\"] = df_gasPricesBR.regiao.map(regioes)\n",
    "\n",
    "df_gasPricesBR.regiao.value_counts()"
   ]
  },
  {
   "cell_type": "code",
   "execution_count": 45,
   "metadata": {},
   "outputs": [
    {
     "data": {
      "text/plain": [
       "Diesel         21194\n",
       "Gasolina       21194\n",
       "GLP            21186\n",
       "Etanol         21102\n",
       "Gás Natural    13034\n",
       "Diesel S10      9113\n",
       "Name: produto, dtype: int64"
      ]
     },
     "execution_count": 45,
     "metadata": {},
     "output_type": "execute_result"
    }
   ],
   "source": [
    "produtos = {\"ÓLEO DIESEL\":\"Diesel\", \"GASOLINA COMUM\":\"Gasolina\", \"GLP\":\"GLP\", \n",
    "            \"ETANOL HIDRATADO\":\"Etanol\", \"GNV\":\"Gás Natural\", \"ÓLEO DIESEL S10\":\"Diesel S10\"}\n",
    "\n",
    "df_gasPricesBR[\"produto\"] = df_gasPricesBR.produto.map(produtos)\n",
    "\n",
    "df_gasPricesBR.produto.value_counts()"
   ]
  },
  {
   "cell_type": "code",
   "execution_count": null,
   "metadata": {},
   "outputs": [],
   "source": [
    "df_gasPricesBR.describe()"
   ]
  },
  {
   "cell_type": "markdown",
   "metadata": {},
   "source": [
    "## Análise Exploratória de Dados"
   ]
  },
  {
   "cell_type": "markdown",
   "metadata": {},
   "source": [
    "### Contagem por região"
   ]
  },
  {
   "cell_type": "code",
   "execution_count": 104,
   "metadata": {},
   "outputs": [
    {
     "name": "stdout",
     "output_type": "stream",
     "text": [
      "Nordeste        36869\n",
      "Norte           24702\n",
      "Sudeste         17047\n",
      "Centro Oeste    15429\n",
      "Sul             12776\n",
      "Name: regiao, dtype: int64\n"
     ]
    },
    {
     "data": {
      "image/png": "[encoded data removed]",
      "text/plain": [
       "<Figure size 432x288 with 1 Axes>"
      ]
     },
     "metadata": {
      "needs_background": "light"
     },
     "output_type": "display_data"
    }
   ],
   "source": [
    "contagem_regiao = df_gasPricesBR.regiao.value_counts()\n",
    "print(contagem_regiao)\n",
    "contagem_regiao.sort_values().plot(kind='barh')\n",
    "plt.show()"
   ]
  },
  {
   "cell_type": "markdown",
   "metadata": {},
   "source": [
    "### Contagem por Região por Combustível"
   ]
  },
  {
   "cell_type": "code",
   "execution_count": 98,
   "metadata": {},
   "outputs": [
    {
     "name": "stdout",
     "output_type": "stream",
     "text": [
      "regiao       Centro Oeste  Nordeste  Norte  Sudeste   Sul\n",
      "produto                                                  \n",
      "Diesel               3140      7065   5494     3140  2355\n",
      "Diesel S10           1349      3039   2359     1352  1014\n",
      "Etanol               3140      7064   5404     3140  2354\n",
      "GLP                  3137      7061   5494     3139  2355\n",
      "Gasolina             3140      7065   5494     3140  2355\n",
      "Gás Natural          1523      5575    457     3136  2343\n"
     ]
    },
    {
     "data": {
      "image/png": "[encoded data removed]",
      "text/plain": [
       "<Figure size 432x288 with 1 Axes>"
      ]
     },
     "metadata": {
      "needs_background": "light"
     },
     "output_type": "display_data"
    }
   ],
   "source": [
    "contagem_regiao_produto = df_gasPricesBR.groupby(['produto', 'regiao'])['preco_medio_revenda'].count()\n",
    "print(contagem_regiao_produto.unstack())\n",
    "contagem_regiao_produto.unstack().plot(kind='bar', stacked=True)\n",
    "plt.show()"
   ]
  },
  {
   "cell_type": "code",
   "execution_count": null,
   "metadata": {},
   "outputs": [],
   "source": [
    "### Contagem por Estado"
   ]
  },
  {
   "cell_type": "code",
   "execution_count": 105,
   "metadata": {},
   "outputs": [
    {
     "name": "stdout",
     "output_type": "stream",
     "text": [
      "RIO GRANDE DO SUL      4263\n",
      "SAO PAULO              4263\n",
      "CEARA                  4263\n",
      "RIO DE JANEIRO         4263\n",
      "BAHIA                  4263\n",
      "PARAIBA                4263\n",
      "RIO GRANDE DO NORTE    4262\n",
      "PERNAMBUCO             4262\n",
      "SANTA CATARINA         4262\n",
      "MINAS GERAIS           4261\n",
      "ESPIRITO SANTO         4260\n",
      "SERGIPE                4259\n",
      "PARANA                 4251\n",
      "ALAGOAS                4250\n",
      "MATO GROSSO DO SUL     4246\n",
      "MATO GROSSO            4037\n",
      "AMAZONAS               3889\n",
      "GOIAS                  3663\n",
      "PIAUI                  3548\n",
      "MARANHAO               3499\n",
      "PARA                   3497\n",
      "TOCANTINS              3483\n",
      "DISTRITO FEDERAL       3483\n",
      "ACRE                   3480\n",
      "RONDONIA               3479\n",
      "RORAIMA                3471\n",
      "AMAPA                  3403\n",
      "Name: estado, dtype: int64\n"
     ]
    },
    {
     "data": {
      "image/png": "[encoded data removed]",
      "text/plain": [
       "<Figure size 432x288 with 1 Axes>"
      ]
     },
     "metadata": {
      "needs_background": "light"
     },
     "output_type": "display_data"
    }
   ],
   "source": [
    "contagem_estado = df_gasPricesBR.estado.value_counts()\n",
    "print(contagem_estado)\n",
    "contagem_estado.sort_values().plot(kind='barh')\n",
    "plt.show()"
   ]
  },
  {
   "cell_type": "markdown",
   "metadata": {},
   "source": [
    "### Contagem por Estado por Produto"
   ]
  },
  {
   "cell_type": "code",
   "execution_count": 112,
   "metadata": {},
   "outputs": [
    {
     "name": "stdout",
     "output_type": "stream",
     "text": [
      "produto              Diesel  Diesel S10  Etanol    GLP  Gasolina  Gás Natural\n",
      "estado                                                                       \n",
      "ACRE                  785.0       336.0   784.0  785.0     785.0          5.0\n",
      "ALAGOAS               785.0       337.0   785.0  784.0     785.0        774.0\n",
      "AMAPA                 784.0       336.0   703.0  784.0     784.0         12.0\n",
      "AMAZONAS              785.0       337.0   785.0  785.0     785.0        412.0\n",
      "BAHIA                 785.0       338.0   785.0  785.0     785.0        785.0\n",
      "CEARA                 785.0       338.0   785.0  785.0     785.0        785.0\n",
      "DISTRITO FEDERAL      785.0       336.0   785.0  783.0     785.0          9.0\n",
      "ESPIRITO SANTO        785.0       338.0   785.0  784.0     785.0        783.0\n",
      "GOIAS                 785.0       338.0   785.0  784.0     785.0        186.0\n",
      "MARANHAO              785.0       338.0   785.0  784.0     785.0         22.0\n",
      "MATO GROSSO           785.0       337.0   785.0  785.0     785.0        560.0\n",
      "MATO GROSSO DO SUL    785.0       338.0   785.0  785.0     785.0        768.0\n",
      "MINAS GERAIS          785.0       338.0   785.0  785.0     785.0        783.0\n",
      "PARA                  785.0       338.0   785.0  785.0     785.0         19.0\n",
      "PARAIBA               785.0       338.0   785.0  785.0     785.0        785.0\n",
      "PARANA                785.0       338.0   785.0  785.0     785.0        773.0\n",
      "PERNAMBUCO            785.0       338.0   784.0  785.0     785.0        785.0\n",
      "PIAUI                 785.0       337.0   785.0  784.0     785.0         72.0\n",
      "RIO DE JANEIRO        785.0       338.0   785.0  785.0     785.0        785.0\n",
      "RIO GRANDE DO NORTE   785.0       337.0   785.0  785.0     785.0        785.0\n",
      "RIO GRANDE DO SUL     785.0       338.0   785.0  785.0     785.0        785.0\n",
      "RONDONIA              785.0       336.0   785.0  785.0     785.0          3.0\n",
      "RORAIMA               785.0       338.0   778.0  785.0     785.0          NaN\n",
      "SANTA CATARINA        785.0       338.0   784.0  785.0     785.0        785.0\n",
      "SAO PAULO             785.0       338.0   785.0  785.0     785.0        785.0\n",
      "SERGIPE               785.0       338.0   785.0  784.0     785.0        782.0\n",
      "TOCANTINS             785.0       338.0   784.0  785.0     785.0          6.0\n"
     ]
    },
    {
     "data": {
      "text/plain": [
       "<Figure size 50000x50000 with 0 Axes>"
      ]
     },
     "metadata": {},
     "output_type": "display_data"
    },
    {
     "data": {
      "image/png": "[encoded data removed]",
      "text/plain": [
       "<Figure size 432x288 with 1 Axes>"
      ]
     },
     "metadata": {
      "needs_background": "light"
     },
     "output_type": "display_data"
    }
   ],
   "source": [
    "plt.figure(\n",
    "    figsize=(500, 500),\n",
    "    dpi=100)\n",
    "contagem_estado_produto = df_gasPricesBR.groupby(['estado', 'produto'])['preco_medio_revenda'].count()\n",
    "print(contagem_estado_produto.unstack())\n",
    "contagem_estado_produto.unstack().plot(kind='bar', stacked=True)\n",
    "plt.show()"
   ]
  },
  {
   "cell_type": "code",
   "execution_count": 67,
   "metadata": {},
   "outputs": [],
   "source": [
    "### Média de Preço por Ano e Região"
   ]
  },
  {
   "cell_type": "code",
   "execution_count": 70,
   "metadata": {},
   "outputs": [
    {
     "data": {
      "text/plain": [
       "ano   regiao        produto    \n",
       "2004  Centro Oeste  Diesel          1.632838\n",
       "                    Etanol          1.502309\n",
       "                    GLP            33.797787\n",
       "                    Gasolina        2.288507\n",
       "                    Gás Natural     1.133059\n",
       "      Nordeste      Diesel          1.480964\n",
       "                    Etanol          1.534441\n",
       "                    GLP            32.072791\n",
       "                    Gasolina        2.186523\n",
       "                    Gás Natural     1.148996\n",
       "      Norte         Diesel          1.672861\n",
       "                    Etanol          1.736340\n",
       "                    GLP            33.810786\n",
       "                    Gasolina        2.351059\n",
       "      Sudeste       Diesel          1.499279\n",
       "                    Etanol          1.274912\n",
       "                    GLP            29.259257\n",
       "                    Gasolina        2.126941\n",
       "                    Gás Natural     1.108868\n",
       "      Sul           Diesel          1.543127\n",
       "                    Etanol          1.396853\n",
       "                    GLP            31.143343\n",
       "                    Gasolina        2.217078\n",
       "                    Gás Natural     1.193618\n",
       "2005  Centro Oeste  Diesel          1.842270\n",
       "                    Etanol          1.630055\n",
       "                    GLP            33.472397\n",
       "                    Gasolina        2.497875\n",
       "                    Gás Natural     1.253039\n",
       "      Nordeste      Diesel          1.708333\n",
       "                    Etanol          1.711411\n",
       "                    GLP            31.067679\n",
       "                    Gasolina        2.392278\n",
       "                    Gás Natural     1.243501\n",
       "      Norte         Diesel          1.894676\n",
       "                    Etanol          1.900959\n",
       "                    GLP            33.332768\n",
       "                    Gasolina        2.541977\n",
       "                    Gás Natural     1.382636\n",
       "      Sudeste       Diesel          1.723540\n",
       "                    Etanol          1.466315\n",
       "                    GLP            29.265625\n",
       "                    Gasolina        2.297705\n",
       "                    Gás Natural     1.162890\n",
       "      Sul           Diesel          1.776727\n",
       "                    Etanol          1.611667\n",
       "                    GLP            31.301533\n",
       "                    Gasolina        2.431240\n",
       "                    Gás Natural     1.283113\n",
       "2006  Centro Oeste  Diesel          1.972325\n",
       "                    Etanol          1.880292\n",
       "                    GLP            35.747283\n",
       "                    Gasolina        2.720005\n",
       "                    Gás Natural     1.485488\n",
       "      Nordeste      Diesel          1.858734\n",
       "                    Etanol          1.953212\n",
       "                    GLP            32.848629\n",
       "                    Gasolina        2.644031\n",
       "                    Gás Natural     1.367341\n",
       "      Norte         Diesel          2.061749\n",
       "                    Etanol          2.171461\n",
       "                    GLP            34.809218\n",
       "                    Gasolina        2.726310\n",
       "                    Gás Natural     1.399000\n",
       "      Sudeste       Diesel          1.843198\n",
       "                    Etanol          1.794656\n",
       "                    GLP            31.824873\n",
       "                    Gasolina        2.529325\n",
       "                    Gás Natural     1.275311\n",
       "      Sul           Diesel          1.899893\n",
       "                    Etanol          1.880478\n",
       "                    GLP            33.627396\n",
       "                    Gasolina        2.599629\n",
       "                    Gás Natural     1.473730\n",
       "2007  Centro Oeste  Diesel          1.964937\n",
       "                    Etanol          1.597981\n",
       "                    GLP            36.982745\n",
       "                    Gasolina        2.676433\n",
       "                    Gás Natural     1.546176\n",
       "      Nordeste      Diesel          1.850844\n",
       "                    Etanol          1.764425\n",
       "                    GLP            33.117047\n",
       "                    Gasolina        2.611556\n",
       "                    Gás Natural     1.509455\n",
       "      Norte         Diesel          2.039786\n",
       "                    Etanol          1.949640\n",
       "                    GLP            35.863703\n",
       "                    Gasolina        2.641758\n",
       "                    Gás Natural     1.399036\n",
       "      Sudeste       Diesel          1.838221\n",
       "                    Etanol          1.613649\n",
       "                    GLP            32.879346\n",
       "                    Gasolina        2.506731\n",
       "                    Gás Natural     1.345851\n",
       "      Sul           Diesel          1.887705\n",
       "                    Etanol          1.638378\n",
       "                    GLP            33.924019\n",
       "                    Gasolina        2.514205\n",
       "                    Gás Natural     1.533814\n",
       "2008  Centro Oeste  Diesel          2.116385\n",
       "                    Etanol          1.634000\n",
       "                    GLP            36.573240\n",
       "                    Gasolina        2.630981\n",
       "                    Gás Natural     1.639061\n",
       "      Nordeste      Diesel          2.009564\n",
       "                    Etanol          1.793338\n",
       "                    GLP            33.540169\n",
       "                    Gasolina        2.595004\n",
       "                    Gás Natural     1.735571\n",
       "      Norte         Diesel          2.207755\n",
       "                    Etanol          1.988585\n",
       "                    GLP            36.301085\n",
       "                    Gasolina        2.701418\n",
       "                    Gás Natural     1.492677\n",
       "      Sudeste       Diesel          2.005510\n",
       "                    Etanol          1.589534\n",
       "                    GLP            32.885784\n",
       "                    Gasolina        2.506760\n",
       "                    Gás Natural     1.566375\n",
       "      Sul           Diesel          2.049378\n",
       "                    Etanol          1.628506\n",
       "                    GLP            34.251077\n",
       "                    Gasolina        2.505737\n",
       "                    Gás Natural     1.663399\n",
       "2009  Centro Oeste  Diesel          2.131340\n",
       "                    Etanol          1.647225\n",
       "                    GLP            40.260520\n",
       "                    Gasolina        2.663615\n",
       "                    Gás Natural     1.775959\n",
       "      Nordeste      Diesel          2.040611\n",
       "                    Etanol          1.769771\n",
       "                    GLP            34.950498\n",
       "                    Gasolina        2.572993\n",
       "                    Gás Natural     1.762414\n",
       "      Norte         Diesel          2.251877\n",
       "                    Etanol          1.969817\n",
       "                    GLP            37.307777\n",
       "                    Gasolina        2.731277\n",
       "                    Gás Natural     1.773853\n",
       "      Sudeste       Diesel          2.035670\n",
       "                    Etanol          1.635170\n",
       "                    GLP            35.315528\n",
       "                    Gasolina        2.510025\n",
       "                    Gás Natural     1.653394\n",
       "      Sul           Diesel          2.065800\n",
       "                    Etanol          1.669287\n",
       "                    GLP            36.721033\n",
       "                    Gasolina        2.521007\n",
       "                    Gás Natural     1.667345\n",
       "2010  Centro Oeste  Diesel          2.084976\n",
       "                    Etanol          1.786207\n",
       "                    GLP            42.802885\n",
       "                    Gasolina        2.672312\n",
       "                    Gás Natural     1.678163\n",
       "      Nordeste      Diesel          1.981034\n",
       "                    Etanol          1.917887\n",
       "                    GLP            36.452376\n",
       "                    Gasolina        2.613190\n",
       "                    Gás Natural     1.792064\n",
       "      Norte         Diesel          2.225835\n",
       "                    Etanol          2.145036\n",
       "                    GLP            39.623176\n",
       "                    Gasolina        2.805066\n",
       "                    Gás Natural     1.719474\n",
       "      Sudeste       Diesel          1.981764\n",
       "                    Etanol          1.817034\n",
       "                    GLP            37.719611\n",
       "                    Gasolina        2.578144\n",
       "                    Gás Natural     1.615284\n",
       "      Sul           Diesel          2.006968\n",
       "                    Etanol          1.863397\n",
       "                    GLP            39.070558\n",
       "                    Gasolina        2.569276\n",
       "                    Gás Natural     1.625955\n",
       "2011  Centro Oeste  Diesel          2.124245\n",
       "                    Etanol          2.053856\n",
       "                    GLP            42.709822\n",
       "                    Gasolina        2.826038\n",
       "                    Gás Natural     1.669029\n",
       "      Nordeste      Diesel          2.003259\n",
       "                    Etanol          2.178803\n",
       "                    GLP            36.791318\n",
       "                    Gasolina        2.698201\n",
       "                    Gás Natural     1.788962\n",
       "      Norte         Diesel          2.231220\n",
       "                    Etanol          2.334937\n",
       "                    GLP            40.878187\n",
       "                    Gasolina        2.887989\n",
       "                    Gás Natural     1.696615\n",
       "      Sudeste       Diesel          2.007269\n",
       "                    Etanol          2.159428\n",
       "                    GLP            38.144279\n",
       "                    Gasolina        2.784029\n",
       "                    Gás Natural     1.612139\n",
       "      Sul           Diesel          2.033571\n",
       "                    Etanol          2.226686\n",
       "                    GLP            39.404071\n",
       "                    Gasolina        2.719744\n",
       "                    Gás Natural     1.707468\n",
       "2012  Centro Oeste  Diesel          2.181269\n",
       "                    Diesel S10      2.362000\n",
       "                    Etanol          2.068382\n",
       "                    GLP            43.255222\n",
       "                    Gasolina        2.838462\n",
       "                    Gás Natural     1.924458\n",
       "      Nordeste      Diesel          2.058803\n",
       "                    Diesel S10      2.182833\n",
       "                    Etanol          2.204065\n",
       "                    GLP            37.918354\n",
       "                    Gasolina        2.689025\n",
       "                    Gás Natural     1.814043\n",
       "      Norte         Diesel          2.266714\n",
       "                    Diesel S10      2.285333\n",
       "                    Etanol          2.375116\n",
       "                    GLP            41.773739\n",
       "                    Gasolina        2.899585\n",
       "                    Gás Natural     1.793000\n",
       "      Sudeste       Diesel          2.073948\n",
       "                    Diesel S10      2.250750\n",
       "                    Etanol          2.157764\n",
       "                    GLP            38.889127\n",
       "                    Gasolina        2.783608\n",
       "                    Gás Natural     1.666948\n",
       "      Sul           Diesel          2.084912\n",
       "                    Diesel S10      2.223000\n",
       "                    Etanol          2.243604\n",
       "                    GLP            40.346931\n",
       "                    Gasolina        2.722453\n",
       "                    Gás Natural     1.826044\n",
       "2013  Centro Oeste  Diesel          2.441288\n",
       "                    Diesel S10      2.619454\n",
       "                    Etanol          2.093913\n",
       "                    GLP            45.351654\n",
       "                    Gasolina        2.975683\n",
       "                    Gás Natural     2.048448\n",
       "      Nordeste      Diesel          2.293096\n",
       "                    Diesel S10      2.396910\n",
       "                    Etanol          2.355028\n",
       "                    GLP            39.953908\n",
       "                    Gasolina        2.839250\n",
       "                    Gás Natural     1.846327\n",
       "      Norte         Diesel          2.490143\n",
       "                    Diesel S10      2.605626\n",
       "                    Etanol          2.489093\n",
       "                    GLP            45.259533\n",
       "                    Gasolina        3.028385\n",
       "                    Gás Natural     1.958125\n",
       "      Sudeste       Diesel          2.305279\n",
       "                    Diesel S10      2.450322\n",
       "                    Etanol          2.173952\n",
       "                    GLP            40.477226\n",
       "                    Gasolina        2.879889\n",
       "                    Gás Natural     1.773803\n",
       "      Sul           Diesel          2.305994\n",
       "                    Diesel S10      2.441699\n",
       "                    Etanol          2.259808\n",
       "                    GLP            41.606058\n",
       "                    Gasolina        2.852372\n",
       "                    Gás Natural     1.927513\n",
       "2014  Centro Oeste  Diesel          2.637962\n",
       "                    Diesel S10      2.816788\n",
       "                    Etanol          2.225793\n",
       "                    GLP            47.536995\n",
       "                    Gasolina        3.103101\n",
       "                    Gás Natural     2.211776\n",
       "      Nordeste      Diesel          2.477216\n",
       "                    Diesel S10      2.608041\n",
       "                    Etanol          2.473209\n",
       "                    GLP            42.626329\n",
       "                    Gasolina        2.954829\n",
       "                    Gás Natural     1.916547\n",
       "      Norte         Diesel          2.711813\n",
       "                    Diesel S10      2.837857\n",
       "                    Etanol          2.661207\n",
       "                    GLP            48.627695\n",
       "                    Gasolina        3.154407\n",
       "                    Gás Natural     2.112727\n",
       "      Sudeste       Diesel          2.485611\n",
       "                    Diesel S10      2.645827\n",
       "                    Etanol          2.296341\n",
       "                    GLP            42.874322\n",
       "                    Gasolina        2.995111\n",
       "                    Gás Natural     1.817889\n",
       "      Sul           Diesel          2.489654\n",
       "                    Diesel S10      2.645827\n",
       "                    Etanol          2.338974\n",
       "                    GLP            42.709737\n",
       "                    Gasolina        2.957115\n",
       "                    Gás Natural     2.090519\n",
       "2015  Centro Oeste  Diesel          2.969618\n",
       "                    Diesel S10      3.119721\n",
       "                    Etanol          2.381333\n",
       "                    GLP            54.183745\n",
       "                    Gasolina        3.422789\n",
       "                    Gás Natural     2.393903\n",
       "      Nordeste      Diesel          2.815303\n",
       "                    Diesel S10      2.965669\n",
       "                    Etanol          2.624638\n",
       "                    GLP            47.492551\n",
       "                    Gasolina        3.362198\n",
       "                    Gás Natural     2.160946\n",
       "      Norte         Diesel          3.064445\n",
       "                    Diesel S10      3.201832\n",
       "                    Etanol          2.873709\n",
       "                    GLP            55.085014\n",
       "                    Gasolina        3.574123\n",
       "                    Gás Natural     2.289714\n",
       "      Sudeste       Diesel          2.796211\n",
       "                    Diesel S10      2.951010\n",
       "                    Etanol          2.489275\n",
       "                    GLP            47.951029\n",
       "                    Gasolina        3.373230\n",
       "                    Gás Natural     1.985650\n",
       "      Sul           Diesel          2.775431\n",
       "                    Diesel S10      2.928948\n",
       "                    Etanol          2.518111\n",
       "                    GLP            48.376340\n",
       "                    Gasolina        3.303536\n",
       "                    Gás Natural     2.211230\n",
       "2016  Centro Oeste  Diesel          3.188187\n",
       "                    Diesel S10      3.344216\n",
       "                    Etanol          2.832812\n",
       "                    GLP            62.807745\n",
       "                    Gasolina        3.683673\n",
       "                    Gás Natural     2.515284\n",
       "      Nordeste      Diesel          3.049726\n",
       "                    Diesel S10      3.170778\n",
       "                    Etanol          3.120246\n",
       "                    GLP            52.911466\n",
       "                    Gasolina        3.728269\n",
       "                    Gás Natural     2.380478\n",
       "      Norte         Diesel          3.308618\n",
       "                    Diesel S10      3.461863\n",
       "                    Etanol          3.438695\n",
       "                    GLP            60.772632\n",
       "                    Gasolina        3.870948\n",
       "                    Gás Natural     2.842321\n",
       "      Sudeste       Diesel          2.990457\n",
       "                    Diesel S10      3.133567\n",
       "                    Etanol          2.909990\n",
       "                    GLP            52.722923\n",
       "                    Gasolina        3.702322\n",
       "                    Gás Natural     2.186531\n",
       "      Sul           Diesel          2.914769\n",
       "                    Diesel S10      3.053609\n",
       "                    Etanol          3.116885\n",
       "                    GLP            55.185968\n",
       "                    Gasolina        3.674609\n",
       "                    Gás Natural     2.427590\n",
       "2017  Centro Oeste  Diesel          3.344175\n",
       "                    Diesel S10      3.482127\n",
       "                    Etanol          2.893590\n",
       "                    GLP            68.435816\n",
       "                    Gasolina        3.796217\n",
       "                    Gás Natural     2.520851\n",
       "      Nordeste      Diesel          3.105149\n",
       "                    Diesel S10      3.200499\n",
       "                    Etanol          3.129430\n",
       "                    GLP            57.866736\n",
       "                    Gasolina        3.750964\n",
       "                    Gás Natural     2.532783\n",
       "      Norte         Diesel          3.375881\n",
       "                    Diesel S10      3.544426\n",
       "                    Etanol          3.525245\n",
       "                    GLP            66.482367\n",
       "                    Gasolina        3.922458\n",
       "                    Gás Natural     2.863880\n",
       "      Sudeste       Diesel          3.138052\n",
       "                    Diesel S10      3.275236\n",
       "                    Etanol          2.978373\n",
       "                    GLP            58.252811\n",
       "                    Gasolina        3.828840\n",
       "                    Gás Natural     2.324080\n",
       "      Sul           Diesel          2.990962\n",
       "                    Diesel S10      3.122352\n",
       "                    Etanol          3.208258\n",
       "                    GLP            59.305440\n",
       "                    Gasolina        3.758874\n",
       "                    Gás Natural     2.402025\n",
       "2018  Centro Oeste  Diesel          3.684500\n",
       "                    Diesel S10      3.790577\n",
       "                    Etanol          3.103851\n",
       "                    GLP            78.617830\n",
       "                    Gasolina        4.458668\n",
       "                    Gás Natural     2.708230\n",
       "      Nordeste      Diesel          3.537201\n",
       "                    Diesel S10      3.606795\n",
       "                    Etanol          3.423313\n",
       "                    GLP            67.177318\n",
       "                    Gasolina        4.398438\n",
       "                    Gás Natural     2.993016\n",
       "      Norte         Diesel          3.772310\n",
       "                    Diesel S10      3.888533\n",
       "                    Etanol          3.730029\n",
       "                    GLP            77.169981\n",
       "                    Gasolina        4.497363\n",
       "                    Gás Natural     3.136897\n",
       "      Sudeste       Diesel          3.483712\n",
       "                    Diesel S10      3.597356\n",
       "                    Etanol          3.217072\n",
       "                    GLP            65.740000\n",
       "                    Gasolina        4.531966\n",
       "                    Gás Natural     2.688327\n",
       "      Sul           Diesel          3.354519\n",
       "                    Diesel S10      3.457019\n",
       "                    Etanol          3.476677\n",
       "                    GLP            68.465250\n",
       "                    Gasolina        4.326724\n",
       "                    Gás Natural     2.708673\n",
       "2019  Centro Oeste  Diesel          3.694640\n",
       "                    Diesel S10      3.808450\n",
       "                    Etanol          3.064510\n",
       "                    GLP            78.578340\n",
       "                    Gasolina        4.347360\n",
       "                    Gás Natural     3.017200\n",
       "      Nordeste      Diesel          3.629738\n",
       "                    Diesel S10      3.685822\n",
       "                    Etanol          3.492178\n",
       "                    GLP            68.082804\n",
       "                    Gasolina        4.419596\n",
       "                    Gás Natural     3.398407\n",
       "      Norte         Diesel          3.884320\n",
       "                    Diesel S10      3.975446\n",
       "                    Etanol          3.746550\n",
       "                    GLP            78.514086\n",
       "                    Gasolina        4.382480\n",
       "                    Gás Natural     3.215538\n",
       "      Sudeste       Diesel          3.524340\n",
       "                    Diesel S10      3.641920\n",
       "                    Etanol          3.291330\n",
       "                    GLP            66.628610\n",
       "                    Gasolina        4.519000\n",
       "                    Gás Natural     3.148780\n",
       "      Sul           Diesel          3.409120\n",
       "                    Diesel S10      3.505667\n",
       "                    Etanol          3.532720\n",
       "                    GLP            69.769880\n",
       "                    Gasolina        4.276760\n",
       "                    Gás Natural     3.149932\n",
       "Name: preco_medio_revenda, dtype: float64"
      ]
     },
     "execution_count": 70,
     "metadata": {},
     "output_type": "execute_result"
    }
   ],
   "source": [
    "df_gasPricesBR.groupby(['ano', 'regiao', 'produto'])['preco_medio_revenda'].mean()"
   ]
  },
  {
   "cell_type": "code",
   "execution_count": 15,
   "metadata": {},
   "outputs": [
    {
     "data": {
      "text/plain": [
       "ESTADO\n",
       "ACRE                   19.539656\n",
       "ALAGOAS                14.015613\n",
       "AMAPA                  21.057955\n",
       "AMAZONAS               16.324963\n",
       "BAHIA                  13.514953\n",
       "CEARA                  15.542520\n",
       "DISTRITO FEDERAL       17.237209\n",
       "ESPIRITO SANTO         13.804187\n",
       "GOIAS                  17.339524\n",
       "MARANHAO               16.879866\n",
       "MATO GROSSO            22.248127\n",
       "MATO GROSSO DO SUL     14.954376\n",
       "MINAS GERAIS           14.755193\n",
       "PARA                   18.537768\n",
       "PARAIBA                14.337493\n",
       "PARANA                 14.593872\n",
       "PERNAMBUCO             13.967107\n",
       "PIAUI                  16.689648\n",
       "RIO DE JANEIRO         13.957967\n",
       "RIO GRANDE DO NORTE    14.582667\n",
       "RIO GRANDE DO SUL      14.728027\n",
       "RONDONIA               18.924864\n",
       "RORAIMA                19.859496\n",
       "SANTA CATARINA         14.576433\n",
       "SAO PAULO              13.985307\n",
       "SERGIPE                14.815313\n",
       "TOCANTINS              18.734764\n",
       "Name: PREÇO MÉDIO REVENDA, dtype: float64"
      ]
     },
     "execution_count": 15,
     "metadata": {},
     "output_type": "execute_result"
    }
   ],
   "source": [
    "df_gasPricesBR[df_gasPricesBR['ANO'] == 2019].groupby(['ESTADO'])['PREÇO MÉDIO REVENDA'].mean()"
   ]
  }
 ],
 "metadata": {
  "kernelspec": {
   "display_name": "Python 3",
   "language": "python",
   "name": "python3"
  },
  "language_info": {
   "codemirror_mode": {
    "name": "ipython",
    "version": 3
   },
   "file_extension": ".py",
   "mimetype": "text/x-python",
   "name": "python",
   "nbconvert_exporter": "python",
   "pygments_lexer": "ipython3",
   "version": "3.7.1"
  }
 },
 "nbformat": 4,
 "nbformat_minor": 4
}
