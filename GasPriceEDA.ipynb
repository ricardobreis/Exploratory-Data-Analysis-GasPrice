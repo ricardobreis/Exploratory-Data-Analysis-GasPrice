{
 "cells": [
  {
   "cell_type": "markdown",
   "metadata": {},
   "source": [
    "# Datasets for EAD (Exploratory Data Analysis)"
   ]
  },
  {
   "cell_type": "markdown",
   "metadata": {},
   "source": [
    "Importing needed libraries and setting configurations:"
   ]
  },
  {
   "cell_type": "code",
   "execution_count": 48,
   "metadata": {},
   "outputs": [],
   "source": [
    "import pandas as pd\n",
    "pd.set_option('display.max_rows', 500)\n",
    "pd.set_option('display.max_columns', 500)\n",
    "pd.set_option('display.width', 1000)\n",
    "\n",
    "import matplotlib.pyplot as plt"
   ]
  },
  {
   "cell_type": "markdown",
   "metadata": {},
   "source": [
    "## Gas Prices in Brazil 2004-2019 Dataset"
   ]
  },
  {
   "cell_type": "markdown",
   "metadata": {},
   "source": [
    "Source and further information:"
   ]
  },
  {
   "cell_type": "markdown",
   "metadata": {},
   "source": [
    "https://www.kaggle.com/matheusfreitag/gas-prices-in-brazil"
   ]
  },
  {
   "cell_type": "markdown",
   "metadata": {},
   "source": [
    "Data:"
   ]
  },
  {
   "cell_type": "code",
   "execution_count": 44,
   "metadata": {},
   "outputs": [],
   "source": [
    "df_gasPricesBR = pd.read_csv('data_gasPricesBR_2004-2019.tsv', sep = '\\t', index_col = 0)"
   ]
  },
  {
   "cell_type": "code",
   "execution_count": 45,
   "metadata": {},
   "outputs": [
    {
     "data": {
      "text/html": [
       "<div>\n",
       "<style scoped>\n",
       "    .dataframe tbody tr th:only-of-type {\n",
       "        vertical-align: middle;\n",
       "    }\n",
       "\n",
       "    .dataframe tbody tr th {\n",
       "        vertical-align: top;\n",
       "    }\n",
       "\n",
       "    .dataframe thead th {\n",
       "        text-align: right;\n",
       "    }\n",
       "</style>\n",
       "<table border=\"1\" class=\"dataframe\">\n",
       "  <thead>\n",
       "    <tr style=\"text-align: right;\">\n",
       "      <th></th>\n",
       "      <th>DATA INICIAL</th>\n",
       "      <th>DATA FINAL</th>\n",
       "      <th>REGIÃO</th>\n",
       "      <th>ESTADO</th>\n",
       "      <th>PRODUTO</th>\n",
       "      <th>NÚMERO DE POSTOS PESQUISADOS</th>\n",
       "      <th>UNIDADE DE MEDIDA</th>\n",
       "      <th>PREÇO MÉDIO REVENDA</th>\n",
       "      <th>DESVIO PADRÃO REVENDA</th>\n",
       "      <th>PREÇO MÍNIMO REVENDA</th>\n",
       "      <th>PREÇO MÁXIMO REVENDA</th>\n",
       "      <th>MARGEM MÉDIA REVENDA</th>\n",
       "      <th>COEF DE VARIAÇÃO REVENDA</th>\n",
       "      <th>PREÇO MÉDIO DISTRIBUIÇÃO</th>\n",
       "      <th>DESVIO PADRÃO DISTRIBUIÇÃO</th>\n",
       "      <th>PREÇO MÍNIMO DISTRIBUIÇÃO</th>\n",
       "      <th>PREÇO MÁXIMO DISTRIBUIÇÃO</th>\n",
       "      <th>COEF DE VARIAÇÃO DISTRIBUIÇÃO</th>\n",
       "      <th>MÊS</th>\n",
       "      <th>ANO</th>\n",
       "    </tr>\n",
       "  </thead>\n",
       "  <tbody>\n",
       "    <tr>\n",
       "      <th>0</th>\n",
       "      <td>2004-05-09</td>\n",
       "      <td>2004-05-15</td>\n",
       "      <td>CENTRO OESTE</td>\n",
       "      <td>DISTRITO FEDERAL</td>\n",
       "      <td>ETANOL HIDRATADO</td>\n",
       "      <td>127</td>\n",
       "      <td>R$/l</td>\n",
       "      <td>1.288</td>\n",
       "      <td>0.016</td>\n",
       "      <td>1.19</td>\n",
       "      <td>1.350</td>\n",
       "      <td>0.463</td>\n",
       "      <td>0.012</td>\n",
       "      <td>0.825</td>\n",
       "      <td>0.11</td>\n",
       "      <td>0.4201</td>\n",
       "      <td>0.9666</td>\n",
       "      <td>0.133</td>\n",
       "      <td>5</td>\n",
       "      <td>2004</td>\n",
       "    </tr>\n",
       "    <tr>\n",
       "      <th>1</th>\n",
       "      <td>2004-05-09</td>\n",
       "      <td>2004-05-15</td>\n",
       "      <td>CENTRO OESTE</td>\n",
       "      <td>GOIAS</td>\n",
       "      <td>ETANOL HIDRATADO</td>\n",
       "      <td>387</td>\n",
       "      <td>R$/l</td>\n",
       "      <td>1.162</td>\n",
       "      <td>0.114</td>\n",
       "      <td>0.89</td>\n",
       "      <td>1.449</td>\n",
       "      <td>0.399</td>\n",
       "      <td>0.098</td>\n",
       "      <td>0.763</td>\n",
       "      <td>0.088</td>\n",
       "      <td>0.5013</td>\n",
       "      <td>1.05</td>\n",
       "      <td>0.115</td>\n",
       "      <td>5</td>\n",
       "      <td>2004</td>\n",
       "    </tr>\n",
       "    <tr>\n",
       "      <th>2</th>\n",
       "      <td>2004-05-09</td>\n",
       "      <td>2004-05-15</td>\n",
       "      <td>CENTRO OESTE</td>\n",
       "      <td>MATO GROSSO</td>\n",
       "      <td>ETANOL HIDRATADO</td>\n",
       "      <td>192</td>\n",
       "      <td>R$/l</td>\n",
       "      <td>1.389</td>\n",
       "      <td>0.097</td>\n",
       "      <td>1.18</td>\n",
       "      <td>1.760</td>\n",
       "      <td>0.419</td>\n",
       "      <td>0.070</td>\n",
       "      <td>0.97</td>\n",
       "      <td>0.095</td>\n",
       "      <td>0.5614</td>\n",
       "      <td>1.161</td>\n",
       "      <td>0.098</td>\n",
       "      <td>5</td>\n",
       "      <td>2004</td>\n",
       "    </tr>\n",
       "    <tr>\n",
       "      <th>3</th>\n",
       "      <td>2004-05-09</td>\n",
       "      <td>2004-05-15</td>\n",
       "      <td>CENTRO OESTE</td>\n",
       "      <td>MATO GROSSO DO SUL</td>\n",
       "      <td>ETANOL HIDRATADO</td>\n",
       "      <td>162</td>\n",
       "      <td>R$/l</td>\n",
       "      <td>1.262</td>\n",
       "      <td>0.070</td>\n",
       "      <td>1.09</td>\n",
       "      <td>1.509</td>\n",
       "      <td>0.432</td>\n",
       "      <td>0.055</td>\n",
       "      <td>0.83</td>\n",
       "      <td>0.119</td>\n",
       "      <td>0.5991</td>\n",
       "      <td>1.22242</td>\n",
       "      <td>0.143</td>\n",
       "      <td>5</td>\n",
       "      <td>2004</td>\n",
       "    </tr>\n",
       "    <tr>\n",
       "      <th>4</th>\n",
       "      <td>2004-05-09</td>\n",
       "      <td>2004-05-15</td>\n",
       "      <td>NORDESTE</td>\n",
       "      <td>ALAGOAS</td>\n",
       "      <td>ETANOL HIDRATADO</td>\n",
       "      <td>103</td>\n",
       "      <td>R$/l</td>\n",
       "      <td>1.181</td>\n",
       "      <td>0.078</td>\n",
       "      <td>1.05</td>\n",
       "      <td>1.400</td>\n",
       "      <td>0.24</td>\n",
       "      <td>0.066</td>\n",
       "      <td>0.941</td>\n",
       "      <td>0.077</td>\n",
       "      <td>0.7441</td>\n",
       "      <td>1.0317</td>\n",
       "      <td>0.082</td>\n",
       "      <td>5</td>\n",
       "      <td>2004</td>\n",
       "    </tr>\n",
       "  </tbody>\n",
       "</table>\n",
       "</div>"
      ],
      "text/plain": [
       "  DATA INICIAL  DATA FINAL        REGIÃO              ESTADO           PRODUTO  NÚMERO DE POSTOS PESQUISADOS UNIDADE DE MEDIDA  PREÇO MÉDIO REVENDA  DESVIO PADRÃO REVENDA  PREÇO MÍNIMO REVENDA  PREÇO MÁXIMO REVENDA MARGEM MÉDIA REVENDA  COEF DE VARIAÇÃO REVENDA PREÇO MÉDIO DISTRIBUIÇÃO DESVIO PADRÃO DISTRIBUIÇÃO PREÇO MÍNIMO DISTRIBUIÇÃO PREÇO MÁXIMO DISTRIBUIÇÃO COEF DE VARIAÇÃO DISTRIBUIÇÃO  MÊS   ANO\n",
       "0   2004-05-09  2004-05-15  CENTRO OESTE    DISTRITO FEDERAL  ETANOL HIDRATADO                           127              R$/l                1.288                  0.016                  1.19                 1.350                0.463                     0.012                    0.825                       0.11                    0.4201                    0.9666                         0.133    5  2004\n",
       "1   2004-05-09  2004-05-15  CENTRO OESTE               GOIAS  ETANOL HIDRATADO                           387              R$/l                1.162                  0.114                  0.89                 1.449                0.399                     0.098                    0.763                      0.088                    0.5013                      1.05                         0.115    5  2004\n",
       "2   2004-05-09  2004-05-15  CENTRO OESTE         MATO GROSSO  ETANOL HIDRATADO                           192              R$/l                1.389                  0.097                  1.18                 1.760                0.419                     0.070                     0.97                      0.095                    0.5614                     1.161                         0.098    5  2004\n",
       "3   2004-05-09  2004-05-15  CENTRO OESTE  MATO GROSSO DO SUL  ETANOL HIDRATADO                           162              R$/l                1.262                  0.070                  1.09                 1.509                0.432                     0.055                     0.83                      0.119                    0.5991                   1.22242                         0.143    5  2004\n",
       "4   2004-05-09  2004-05-15      NORDESTE             ALAGOAS  ETANOL HIDRATADO                           103              R$/l                1.181                  0.078                  1.05                 1.400                 0.24                     0.066                    0.941                      0.077                    0.7441                    1.0317                         0.082    5  2004"
      ]
     },
     "execution_count": 45,
     "metadata": {},
     "output_type": "execute_result"
    }
   ],
   "source": [
    "df_gasPricesBR.head(5)"
   ]
  },
  {
   "cell_type": "code",
   "execution_count": 30,
   "metadata": {},
   "outputs": [
    {
     "name": "stdout",
     "output_type": "stream",
     "text": [
      "<class 'pandas.core.frame.DataFrame'>\n",
      "Int64Index: 106823 entries, 0 to 106822\n",
      "Data columns (total 20 columns):\n",
      "DATA INICIAL                     106823 non-null object\n",
      "DATA FINAL                       106823 non-null object\n",
      "REGIÃO                           106823 non-null object\n",
      "ESTADO                           106823 non-null object\n",
      "PRODUTO                          106823 non-null object\n",
      "NÚMERO DE POSTOS PESQUISADOS     106823 non-null int64\n",
      "UNIDADE DE MEDIDA                106823 non-null object\n",
      "PREÇO MÉDIO REVENDA              106823 non-null float64\n",
      "DESVIO PADRÃO REVENDA            106823 non-null float64\n",
      "PREÇO MÍNIMO REVENDA             106823 non-null float64\n",
      "PREÇO MÁXIMO REVENDA             106823 non-null float64\n",
      "MARGEM MÉDIA REVENDA             106823 non-null object\n",
      "COEF DE VARIAÇÃO REVENDA         106823 non-null float64\n",
      "PREÇO MÉDIO DISTRIBUIÇÃO         106823 non-null object\n",
      "DESVIO PADRÃO DISTRIBUIÇÃO       106823 non-null object\n",
      "PREÇO MÍNIMO DISTRIBUIÇÃO        106823 non-null object\n",
      "PREÇO MÁXIMO DISTRIBUIÇÃO        106823 non-null object\n",
      "COEF DE VARIAÇÃO DISTRIBUIÇÃO    106823 non-null object\n",
      "MÊS                              106823 non-null int64\n",
      "ANO                              106823 non-null int64\n",
      "dtypes: float64(5), int64(3), object(12)\n",
      "memory usage: 17.1+ MB\n"
     ]
    }
   ],
   "source": [
    "df_gasPricesBR.info()"
   ]
  },
  {
   "cell_type": "code",
   "execution_count": 15,
   "metadata": {},
   "outputs": [],
   "source": [
    "#### Checa Número de Linhas e Colunas"
   ]
  },
  {
   "cell_type": "code",
   "execution_count": 25,
   "metadata": {},
   "outputs": [
    {
     "name": "stdout",
     "output_type": "stream",
     "text": [
      "Este dataset contém 106823 registros e 20 colunas.\n"
     ]
    }
   ],
   "source": [
    "print('Este dataset contém ' + str(df_gasPricesBR.shape[0]) + ' registros e ' + str(df_gasPricesBR.shape[1]) + ' colunas.')"
   ]
  },
  {
   "cell_type": "code",
   "execution_count": 18,
   "metadata": {},
   "outputs": [],
   "source": [
    "#### Checa por Valores Nulos"
   ]
  },
  {
   "cell_type": "code",
   "execution_count": 12,
   "metadata": {},
   "outputs": [
    {
     "data": {
      "text/plain": [
       "Unnamed: 0                       0\n",
       "DATA INICIAL                     0\n",
       "DATA FINAL                       0\n",
       "REGIÃO                           0\n",
       "ESTADO                           0\n",
       "PRODUTO                          0\n",
       "NÚMERO DE POSTOS PESQUISADOS     0\n",
       "UNIDADE DE MEDIDA                0\n",
       "PREÇO MÉDIO REVENDA              0\n",
       "DESVIO PADRÃO REVENDA            0\n",
       "PREÇO MÍNIMO REVENDA             0\n",
       "PREÇO MÁXIMO REVENDA             0\n",
       "MARGEM MÉDIA REVENDA             0\n",
       "COEF DE VARIAÇÃO REVENDA         0\n",
       "PREÇO MÉDIO DISTRIBUIÇÃO         0\n",
       "DESVIO PADRÃO DISTRIBUIÇÃO       0\n",
       "PREÇO MÍNIMO DISTRIBUIÇÃO        0\n",
       "PREÇO MÁXIMO DISTRIBUIÇÃO        0\n",
       "COEF DE VARIAÇÃO DISTRIBUIÇÃO    0\n",
       "MÊS                              0\n",
       "ANO                              0\n",
       "dtype: int64"
      ]
     },
     "execution_count": 12,
     "metadata": {},
     "output_type": "execute_result"
    }
   ],
   "source": [
    "df_gasPricesBR.isnull().sum()"
   ]
  },
  {
   "cell_type": "code",
   "execution_count": 19,
   "metadata": {},
   "outputs": [],
   "source": [
    "#### Checa os Tipos de Dados"
   ]
  },
  {
   "cell_type": "code",
   "execution_count": 20,
   "metadata": {},
   "outputs": [
    {
     "data": {
      "text/plain": [
       "Unnamed: 0                         int64\n",
       "DATA INICIAL                      object\n",
       "DATA FINAL                        object\n",
       "REGIÃO                            object\n",
       "ESTADO                            object\n",
       "PRODUTO                           object\n",
       "NÚMERO DE POSTOS PESQUISADOS       int64\n",
       "UNIDADE DE MEDIDA                 object\n",
       "PREÇO MÉDIO REVENDA              float64\n",
       "DESVIO PADRÃO REVENDA            float64\n",
       "PREÇO MÍNIMO REVENDA             float64\n",
       "PREÇO MÁXIMO REVENDA             float64\n",
       "MARGEM MÉDIA REVENDA              object\n",
       "COEF DE VARIAÇÃO REVENDA         float64\n",
       "PREÇO MÉDIO DISTRIBUIÇÃO          object\n",
       "DESVIO PADRÃO DISTRIBUIÇÃO        object\n",
       "PREÇO MÍNIMO DISTRIBUIÇÃO         object\n",
       "PREÇO MÁXIMO DISTRIBUIÇÃO         object\n",
       "COEF DE VARIAÇÃO DISTRIBUIÇÃO     object\n",
       "MÊS                                int64\n",
       "ANO                                int64\n",
       "dtype: object"
      ]
     },
     "execution_count": 20,
     "metadata": {},
     "output_type": "execute_result"
    }
   ],
   "source": [
    "df_gasPricesBR.dtypes"
   ]
  },
  {
   "cell_type": "code",
   "execution_count": 26,
   "metadata": {},
   "outputs": [],
   "source": [
    "#### Checa os Nomes das Colunas"
   ]
  },
  {
   "cell_type": "code",
   "execution_count": 28,
   "metadata": {},
   "outputs": [
    {
     "data": {
      "text/plain": [
       "Index(['DATA INICIAL', 'DATA FINAL', 'REGIÃO', 'ESTADO', 'PRODUTO', 'NÚMERO DE POSTOS PESQUISADOS', 'UNIDADE DE MEDIDA', 'PREÇO MÉDIO REVENDA', 'DESVIO PADRÃO REVENDA', 'PREÇO MÍNIMO REVENDA', 'PREÇO MÁXIMO REVENDA', 'MARGEM MÉDIA REVENDA', 'COEF DE VARIAÇÃO REVENDA', 'PREÇO MÉDIO DISTRIBUIÇÃO', 'DESVIO PADRÃO DISTRIBUIÇÃO', 'PREÇO MÍNIMO DISTRIBUIÇÃO', 'PREÇO MÁXIMO DISTRIBUIÇÃO', 'COEF DE VARIAÇÃO DISTRIBUIÇÃO', 'MÊS', 'ANO'], dtype='object')"
      ]
     },
     "execution_count": 28,
     "metadata": {},
     "output_type": "execute_result"
    }
   ],
   "source": [
    "df_gasPricesBR.columns"
   ]
  },
  {
   "cell_type": "code",
   "execution_count": 55,
   "metadata": {},
   "outputs": [
    {
     "data": {
      "image/png": "[encoded data removed]",
      "text/plain": [
       "<Figure size 432x288 with 1 Axes>"
      ]
     },
     "metadata": {
      "needs_background": "light"
     },
     "output_type": "display_data"
    }
   ],
   "source": [
    "df_gasPricesBR.plot(x='ANO',y='PREÇO MÉDIO REVENDA')\n",
    "plt.show()"
   ]
  },
  {
   "cell_type": "code",
   "execution_count": 56,
   "metadata": {},
   "outputs": [
    {
     "data": {
      "text/html": [
       "<div>\n",
       "<style scoped>\n",
       "    .dataframe tbody tr th:only-of-type {\n",
       "        vertical-align: middle;\n",
       "    }\n",
       "\n",
       "    .dataframe tbody tr th {\n",
       "        vertical-align: top;\n",
       "    }\n",
       "\n",
       "    .dataframe thead th {\n",
       "        text-align: right;\n",
       "    }\n",
       "</style>\n",
       "<table border=\"1\" class=\"dataframe\">\n",
       "  <thead>\n",
       "    <tr style=\"text-align: right;\">\n",
       "      <th></th>\n",
       "      <th>NÚMERO DE POSTOS PESQUISADOS</th>\n",
       "      <th>PREÇO MÉDIO REVENDA</th>\n",
       "      <th>DESVIO PADRÃO REVENDA</th>\n",
       "      <th>PREÇO MÍNIMO REVENDA</th>\n",
       "      <th>PREÇO MÁXIMO REVENDA</th>\n",
       "      <th>COEF DE VARIAÇÃO REVENDA</th>\n",
       "      <th>MÊS</th>\n",
       "      <th>ANO</th>\n",
       "    </tr>\n",
       "  </thead>\n",
       "  <tbody>\n",
       "    <tr>\n",
       "      <th>count</th>\n",
       "      <td>106823.000000</td>\n",
       "      <td>106823.000000</td>\n",
       "      <td>106823.000000</td>\n",
       "      <td>106823.000000</td>\n",
       "      <td>106823.000000</td>\n",
       "      <td>106823.000000</td>\n",
       "      <td>106823.000000</td>\n",
       "      <td>106823.000000</td>\n",
       "    </tr>\n",
       "    <tr>\n",
       "      <th>mean</th>\n",
       "      <td>233.770976</td>\n",
       "      <td>10.870780</td>\n",
       "      <td>0.657227</td>\n",
       "      <td>9.416038</td>\n",
       "      <td>12.537731</td>\n",
       "      <td>0.045418</td>\n",
       "      <td>6.484006</td>\n",
       "      <td>2011.802271</td>\n",
       "    </tr>\n",
       "    <tr>\n",
       "      <th>std</th>\n",
       "      <td>403.282519</td>\n",
       "      <td>17.752533</td>\n",
       "      <td>1.349169</td>\n",
       "      <td>15.092193</td>\n",
       "      <td>20.841497</td>\n",
       "      <td>0.025066</td>\n",
       "      <td>3.443391</td>\n",
       "      <td>4.391530</td>\n",
       "    </tr>\n",
       "    <tr>\n",
       "      <th>min</th>\n",
       "      <td>1.000000</td>\n",
       "      <td>0.766000</td>\n",
       "      <td>0.000000</td>\n",
       "      <td>0.590000</td>\n",
       "      <td>0.999000</td>\n",
       "      <td>0.000000</td>\n",
       "      <td>1.000000</td>\n",
       "      <td>2004.000000</td>\n",
       "    </tr>\n",
       "    <tr>\n",
       "      <th>25%</th>\n",
       "      <td>42.000000</td>\n",
       "      <td>2.072000</td>\n",
       "      <td>0.072000</td>\n",
       "      <td>1.900000</td>\n",
       "      <td>2.310000</td>\n",
       "      <td>0.029000</td>\n",
       "      <td>4.000000</td>\n",
       "      <td>2008.000000</td>\n",
       "    </tr>\n",
       "    <tr>\n",
       "      <th>50%</th>\n",
       "      <td>104.000000</td>\n",
       "      <td>2.718000</td>\n",
       "      <td>0.114000</td>\n",
       "      <td>2.510000</td>\n",
       "      <td>2.999000</td>\n",
       "      <td>0.041000</td>\n",
       "      <td>6.000000</td>\n",
       "      <td>2012.000000</td>\n",
       "    </tr>\n",
       "    <tr>\n",
       "      <th>75%</th>\n",
       "      <td>243.000000</td>\n",
       "      <td>3.752000</td>\n",
       "      <td>0.191000</td>\n",
       "      <td>3.499000</td>\n",
       "      <td>4.150000</td>\n",
       "      <td>0.058000</td>\n",
       "      <td>9.000000</td>\n",
       "      <td>2016.000000</td>\n",
       "    </tr>\n",
       "    <tr>\n",
       "      <th>max</th>\n",
       "      <td>4167.000000</td>\n",
       "      <td>99.357000</td>\n",
       "      <td>10.748000</td>\n",
       "      <td>90.000000</td>\n",
       "      <td>120.000000</td>\n",
       "      <td>0.395000</td>\n",
       "      <td>12.000000</td>\n",
       "      <td>2019.000000</td>\n",
       "    </tr>\n",
       "  </tbody>\n",
       "</table>\n",
       "</div>"
      ],
      "text/plain": [
       "       NÚMERO DE POSTOS PESQUISADOS  PREÇO MÉDIO REVENDA  DESVIO PADRÃO REVENDA  PREÇO MÍNIMO REVENDA  PREÇO MÁXIMO REVENDA  COEF DE VARIAÇÃO REVENDA            MÊS            ANO\n",
       "count                 106823.000000        106823.000000          106823.000000         106823.000000         106823.000000             106823.000000  106823.000000  106823.000000\n",
       "mean                     233.770976            10.870780               0.657227              9.416038             12.537731                  0.045418       6.484006    2011.802271\n",
       "std                      403.282519            17.752533               1.349169             15.092193             20.841497                  0.025066       3.443391       4.391530\n",
       "min                        1.000000             0.766000               0.000000              0.590000              0.999000                  0.000000       1.000000    2004.000000\n",
       "25%                       42.000000             2.072000               0.072000              1.900000              2.310000                  0.029000       4.000000    2008.000000\n",
       "50%                      104.000000             2.718000               0.114000              2.510000              2.999000                  0.041000       6.000000    2012.000000\n",
       "75%                      243.000000             3.752000               0.191000              3.499000              4.150000                  0.058000       9.000000    2016.000000\n",
       "max                     4167.000000            99.357000              10.748000             90.000000            120.000000                  0.395000      12.000000    2019.000000"
      ]
     },
     "execution_count": 56,
     "metadata": {},
     "output_type": "execute_result"
    }
   ],
   "source": [
    "df_gasPricesBR.describe()"
   ]
  }
 ],
 "metadata": {
  "kernelspec": {
   "display_name": "Python 3",
   "language": "python",
   "name": "python3"
  },
  "language_info": {
   "codemirror_mode": {
    "name": "ipython",
    "version": 3
   },
   "file_extension": ".py",
   "mimetype": "text/x-python",
   "name": "python",
   "nbconvert_exporter": "python",
   "pygments_lexer": "ipython3",
   "version": "3.7.1"
  }
 },
 "nbformat": 4,
 "nbformat_minor": 4
}
